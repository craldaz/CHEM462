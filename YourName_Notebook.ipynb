{
 "cells": [
  {
   "cell_type": "markdown",
   "metadata": {},
   "source": [
    "# Transition States of Molecular Motors\n",
    "## CHEM 462 \n",
    "## 12/2/2020"
   ]
  },
  {
   "cell_type": "code",
   "execution_count": null,
   "metadata": {},
   "outputs": [],
   "source": [
    "\n",
    "import numpy as np\n",
    "import py3Dmol\n",
    "import matplotlib.pyplot as plt\n",
    "\n",
    "# Import some pyGSM utilities\n",
    "from pygsm.utilities import manage_xyz as mx\n",
    "\n",
    "# Import function from file\n",
    "from viz_helper import *\n",
    "\n",
    "\n",
    "# Enable interactivity\n",
    "from ipywidgets import interact,fixed,IntSlider\n",
    "import ipywidgets\n",
    "\n",
    "\n",
    "from pygsm.coordinate_systems.slots import Dihedral\n"
   ]
  },
  {
   "cell_type": "markdown",
   "metadata": {},
   "source": [
    "### Some Examples to get you started"
   ]
  },
  {
   "cell_type": "code",
   "execution_count": null,
   "metadata": {},
   "outputs": [],
   "source": [
    "\n",
    "'''\n",
    "Examples for reading geometries\n",
    "\n",
    "''' \n",
    "\n",
    "# a single geometry\n",
    "# geom = mx.read_xyz('geom.xyz')\n",
    "\n",
    "# two or more geometries concatenated together\n",
    "# geoms = mx.read_xyzs('two_or_more.xyz')\n",
    "\n",
    "# molden geoms have extra header and footer info\n",
    "geoms = mx.read_molden_geoms('opt_converged_000_000.xyz')\n",
    "\n"
   ]
  },
  {
   "cell_type": "code",
   "execution_count": null,
   "metadata": {},
   "outputs": [],
   "source": [
    "# xyzview = geom_to_3dview(geom)\n",
    "# xyzview.show()"
   ]
  },
  {
   "cell_type": "code",
   "execution_count": null,
   "metadata": {},
   "outputs": [],
   "source": [
    "\n",
    "def conf_viewer(idx):\n",
    "    ''' extract conf with idx '''\n",
    "    mol = confs[idx]\n",
    "    return mol.show()\n",
    "\n",
    "\n",
    "# A way to view multiple conformers with a slider\n",
    "confs = [geom_to_3dview(f) for f in geoms]\n",
    "\n",
    "interact(conf_viewer, idx=ipywidgets.IntSlider(min=0,max=len(confs)-1, step=1))"
   ]
  },
  {
   "cell_type": "code",
   "execution_count": null,
   "metadata": {},
   "outputs": [],
   "source": [
    "# Can also get Angle, Distance (which is a bond), and OutOfPlane\n",
    "\n",
    "def Torsion(a,b,c,d):\n",
    "    '''\n",
    "    There is no heuristic behind this name change, but Dihedral is zero \n",
    "    based indexed. this fixes that\n",
    "    '''\n",
    "    return Dihedral(a-1,b-1,c-1,d-1)\n",
    "\n",
    "\n",
    "d1 = Torsion(4,3,22,24)\n",
    "d1_values = [d1.value(mx.xyz_to_np(geom))*180./np.pi for geom in geoms ]\n",
    "\n",
    "print(d1)\n",
    "print(d1_values)"
   ]
  },
  {
   "cell_type": "markdown",
   "metadata": {},
   "source": [
    "## Motor 1: R = Me"
   ]
  },
  {
   "cell_type": "code",
   "execution_count": null,
   "metadata": {},
   "outputs": [],
   "source": []
  }
 ],
 "metadata": {
  "kernelspec": {
   "display_name": "Python 3",
   "language": "python",
   "name": "python3"
  },
  "language_info": {
   "codemirror_mode": {
    "name": "ipython",
    "version": 3
   },
   "file_extension": ".py",
   "mimetype": "text/x-python",
   "name": "python",
   "nbconvert_exporter": "python",
   "pygments_lexer": "ipython3",
   "version": "3.6.12"
  }
 },
 "nbformat": 4,
 "nbformat_minor": 4
}
